{
 "cells": [
  {
   "cell_type": "markdown",
   "metadata": {
    "id": "_MDloX9WVrc1"
   },
   "source": [
    "**#Fraud Detection Model Description**\n",
    "\n",
    "The fraud detection model developed consists of two main classifiers:\n",
    "1.   Logistic Regression\n",
    "2.   Random Forest\n",
    "\n",
    "\n",
    "---\n",
    "\n",
    "\n",
    "**Logistic Regression:** This model is a statistical method for binary classification. It uses the logistic function to model the probability of a binary outcome, in this case, whether a transaction is fraudulent or not. The model is trained with class weights balanced to handle the imbalanced nature of the dataset.\n",
    "\n",
    "**Random Forest:** This is an ensemble learning method that constructs multiple decision trees and merges their results. It is particularly effective for classification problems where the classes are imbalanced. The model uses 100 trees and balanced class weights to manage the imbalance between fraudulent and non-fraudulent transactions."
   ]
  },
  {
   "cell_type": "markdown",
   "metadata": {
    "id": "GV3irGmLW042"
   },
   "source": [
    "**#Variable Selection Process:**\n",
    "\n",
    "Non-informative columns such as **nameOrig**, **nameDest**, and step were removed as they contain information like **customer who started the transaction** and **customer who is the recipient of the transaction**.\n",
    "\n",
    "\n",
    "---\n",
    "\n",
    "The categorical variable **type** was encoded using **LabelEncoder** to convert text labels into **numerical values**\n",
    "\n",
    "Outliers in numerical features **(amount, oldbalanceOrg, newbalanceOrig, oldbalanceDest, newbalanceDest)** were removed to ensure the model training was not Affected by Outliers."
   ]
  },
  {
   "cell_type": "code",
   "execution_count": 39,
   "metadata": {
    "id": "l7j4mzaN4Rbw"
   },
   "outputs": [],
   "source": [
    "import pandas as pd\n",
    "import numpy as np\n",
    "from sklearn.model_selection import train_test_split\n",
    "from sklearn.preprocessing import LabelEncoder\n",
    "from sklearn.linear_model import LogisticRegression\n",
    "from sklearn.metrics import accuracy_score, precision_score, recall_score, f1_score, confusion_matrix"
   ]
  },
  {
   "cell_type": "code",
   "execution_count": 2,
   "metadata": {
    "id": "qx0xh4h_5vox"
   },
   "outputs": [],
   "source": [
    "df = pd.read_csv('Fraud.csv') # Reading CSV  file"
   ]
  },
  {
   "cell_type": "code",
   "execution_count": 3,
   "metadata": {
    "id": "VdZqaMRd5-fn"
   },
   "outputs": [],
   "source": [
    "df_cleaned = df.drop(columns=['nameOrig', 'nameDest', 'step']) # Removing Unwanted Columns"
   ]
  },
  {
   "cell_type": "code",
   "execution_count": 5,
   "metadata": {
    "colab": {
     "base_uri": "https://localhost:8080/"
    },
    "id": "ZpmVDBzk6BqH",
    "outputId": "a12ff731-2abb-495a-e836-085ae2ea17de"
   },
   "outputs": [
    {
     "name": "stdout",
     "output_type": "stream",
     "text": [
      "Total number of null values in the dataset: 0\n"
     ]
    }
   ],
   "source": [
    "total_nulls = df_cleaned.isnull().sum().sum()\n",
    "print(f\"Total number of null values in the dataset: {total_nulls}\")  # total no_of null values"
   ]
  },
  {
   "cell_type": "code",
   "execution_count": 79,
   "metadata": {
    "id": "zrXcuRuC7keG"
   },
   "outputs": [],
   "source": [
    "X = df_cleaned.drop(columns=['isFraud', 'isFlaggedFraud'])\n",
    "y = df_cleaned['isFraud']  # defining target variables"
   ]
  },
  {
   "cell_type": "code",
   "execution_count": 80,
   "metadata": {
    "id": "zz9VXPc77mJw"
   },
   "outputs": [],
   "source": [
    "le = LabelEncoder()\n",
    "X['type'] = le.fit_transform(X['type']) # transform the categorical values into numerical labels"
   ]
  },
  {
   "cell_type": "code",
   "execution_count": 81,
   "metadata": {
    "id": "4_w5NPsW7qpf"
   },
   "outputs": [],
   "source": [
    "X_train, X_test, y_train, y_test = train_test_split(X, y, test_size=0.2, random_state=42) # Split the data into training and testing sets"
   ]
  },
  {
   "cell_type": "code",
   "execution_count": 82,
   "metadata": {
    "id": "yEwMKcNx7xSO"
   },
   "outputs": [],
   "source": [
    "logreg = LogisticRegression(max_iter=1000, class_weight='balanced')\n",
    "logreg.fit(X_train, y_train)                                          # training the logistic regression model with balanced class weights\n",
    "y_pred_logreg = logreg.predict(X_test)                                # Predicting class labels\n",
    "y_proba_logreg = logreg.predict_proba(X_test)[:, 1]"
   ]
  },
  {
   "cell_type": "code",
   "execution_count": 83,
   "metadata": {
    "id": "5M16-ZYm9W6m"
   },
   "outputs": [],
   "source": [
    "threshold = 0.85     # probability threshold for classification\n",
    "y_pred_threshold = (y_proba_logreg  >= threshold).astype(int)   # Convert predicted probabilities to class labels"
   ]
  },
  {
   "cell_type": "code",
   "execution_count": 84,
   "metadata": {
    "id": "3VFYgZFy8In3"
   },
   "outputs": [],
   "source": [
    "accuracy = accuracy_score(y_test, y_pred_logreg)\n",
    "precision = precision_score(y_test, y_pred_threshold)\n",
    "recall = recall_score(y_test, y_pred_threshold)                # Calculating the model's performance metrics\n",
    "f1 = f1_score(y_test, y_pred_threshold)\n",
    "conf_matrix = confusion_matrix(y_test, y_pred_threshold)"
   ]
  },
  {
   "cell_type": "code",
   "execution_count": 85,
   "metadata": {
    "colab": {
     "base_uri": "https://localhost:8080/"
    },
    "id": "sx5c4-eM8Mp4",
    "outputId": "01982f98-b3e7-48b0-f4c0-2b4101796506"
   },
   "outputs": [
    {
     "name": "stdout",
     "output_type": "stream",
     "text": [
      "Logistic Regression Model:\n",
      "Accuracy: 0.9999\n",
      "Precision: 0.7742\n",
      "Recall: 1.0000\n",
      "F1-Score: 0.8727\n",
      "Confusion Matrix:\n",
      "[[182112     14]\n",
      " [     0     48]]\n"
     ]
    }
   ],
   "source": [
    "print(\"Logistic Regression Model:\")\n",
    "print(f\"Accuracy: {accuracy:.4f}\")\n",
    "print(f\"Precision: {precision:.4f}\")\n",
    "print(f\"Recall: {recall:.4f}\")\n",
    "print(f\"F1-Score: {f1:.4f}\")\n",
    "print(\"Confusion Matrix:\")\n",
    "print(conf_matrix)"
   ]
  },
  {
   "cell_type": "markdown",
   "metadata": {
    "id": "Gj1pIypPZtr0"
   },
   "source": [
    "**#The models were evaluated using accuracy, precision, recall, F1-score, and confusion matrix:**\n",
    "\n",
    "**Logistic Regression Model:**\n",
    "\n",
    "\n",
    "*   Accuracy: 0.9999\n",
    "*   Precision: 0.7742\n",
    "*   Recall: 1.0000\n",
    "*   F1-Score: 0.8727\n",
    "*   Confusion Matrix  \n",
    "[[182112     14]\n",
    " [     0     48]]\n",
    "\n",
    "\n",
    "\n",
    "\n",
    "\n",
    "\n"
   ]
  },
  {
   "cell_type": "markdown",
   "metadata": {
    "id": "MwKprmCia4U0"
   },
   "source": [
    "# Key Factors\n",
    "\n",
    "**amount:** Larger transaction amounts might be indicative of fraudulent activities.\n",
    "\n",
    "**oldbalanceOrg and newbalanceOrig:** Significant changes in the account balance before and after the transaction could signal suspicious behavior.\n",
    "\n",
    "**type:** The type of transaction might reveal patterns associated with fraud."
   ]
  },
  {
   "cell_type": "code",
   "execution_count": 71,
   "metadata": {
    "id": "Ht3PKP7u-le2"
   },
   "outputs": [],
   "source": [
    "from sklearn.ensemble import RandomForestClassifier   # import random forest classifier"
   ]
  },
  {
   "cell_type": "code",
   "execution_count": 30,
   "metadata": {
    "colab": {
     "base_uri": "https://localhost:8080/",
     "height": 74
    },
    "id": "170DvW1F-qK1",
    "outputId": "95c4ab6d-49cc-43fd-aa03-37bc28d53c65"
   },
   "outputs": [
    {
     "data": {
      "text/html": [
       "<style>#sk-container-id-3 {color: black;}#sk-container-id-3 pre{padding: 0;}#sk-container-id-3 div.sk-toggleable {background-color: white;}#sk-container-id-3 label.sk-toggleable__label {cursor: pointer;display: block;width: 100%;margin-bottom: 0;padding: 0.3em;box-sizing: border-box;text-align: center;}#sk-container-id-3 label.sk-toggleable__label-arrow:before {content: \"▸\";float: left;margin-right: 0.25em;color: #696969;}#sk-container-id-3 label.sk-toggleable__label-arrow:hover:before {color: black;}#sk-container-id-3 div.sk-estimator:hover label.sk-toggleable__label-arrow:before {color: black;}#sk-container-id-3 div.sk-toggleable__content {max-height: 0;max-width: 0;overflow: hidden;text-align: left;background-color: #f0f8ff;}#sk-container-id-3 div.sk-toggleable__content pre {margin: 0.2em;color: black;border-radius: 0.25em;background-color: #f0f8ff;}#sk-container-id-3 input.sk-toggleable__control:checked~div.sk-toggleable__content {max-height: 200px;max-width: 100%;overflow: auto;}#sk-container-id-3 input.sk-toggleable__control:checked~label.sk-toggleable__label-arrow:before {content: \"▾\";}#sk-container-id-3 div.sk-estimator input.sk-toggleable__control:checked~label.sk-toggleable__label {background-color: #d4ebff;}#sk-container-id-3 div.sk-label input.sk-toggleable__control:checked~label.sk-toggleable__label {background-color: #d4ebff;}#sk-container-id-3 input.sk-hidden--visually {border: 0;clip: rect(1px 1px 1px 1px);clip: rect(1px, 1px, 1px, 1px);height: 1px;margin: -1px;overflow: hidden;padding: 0;position: absolute;width: 1px;}#sk-container-id-3 div.sk-estimator {font-family: monospace;background-color: #f0f8ff;border: 1px dotted black;border-radius: 0.25em;box-sizing: border-box;margin-bottom: 0.5em;}#sk-container-id-3 div.sk-estimator:hover {background-color: #d4ebff;}#sk-container-id-3 div.sk-parallel-item::after {content: \"\";width: 100%;border-bottom: 1px solid gray;flex-grow: 1;}#sk-container-id-3 div.sk-label:hover label.sk-toggleable__label {background-color: #d4ebff;}#sk-container-id-3 div.sk-serial::before {content: \"\";position: absolute;border-left: 1px solid gray;box-sizing: border-box;top: 0;bottom: 0;left: 50%;z-index: 0;}#sk-container-id-3 div.sk-serial {display: flex;flex-direction: column;align-items: center;background-color: white;padding-right: 0.2em;padding-left: 0.2em;position: relative;}#sk-container-id-3 div.sk-item {position: relative;z-index: 1;}#sk-container-id-3 div.sk-parallel {display: flex;align-items: stretch;justify-content: center;background-color: white;position: relative;}#sk-container-id-3 div.sk-item::before, #sk-container-id-3 div.sk-parallel-item::before {content: \"\";position: absolute;border-left: 1px solid gray;box-sizing: border-box;top: 0;bottom: 0;left: 50%;z-index: -1;}#sk-container-id-3 div.sk-parallel-item {display: flex;flex-direction: column;z-index: 1;position: relative;background-color: white;}#sk-container-id-3 div.sk-parallel-item:first-child::after {align-self: flex-end;width: 50%;}#sk-container-id-3 div.sk-parallel-item:last-child::after {align-self: flex-start;width: 50%;}#sk-container-id-3 div.sk-parallel-item:only-child::after {width: 0;}#sk-container-id-3 div.sk-dashed-wrapped {border: 1px dashed gray;margin: 0 0.4em 0.5em 0.4em;box-sizing: border-box;padding-bottom: 0.4em;background-color: white;}#sk-container-id-3 div.sk-label label {font-family: monospace;font-weight: bold;display: inline-block;line-height: 1.2em;}#sk-container-id-3 div.sk-label-container {text-align: center;}#sk-container-id-3 div.sk-container {/* jupyter's `normalize.less` sets `[hidden] { display: none; }` but bootstrap.min.css set `[hidden] { display: none !important; }` so we also need the `!important` here to be able to override the default hidden behavior on the sphinx rendered scikit-learn.org. See: https://github.com/scikit-learn/scikit-learn/issues/21755 */display: inline-block !important;position: relative;}#sk-container-id-3 div.sk-text-repr-fallback {display: none;}</style><div id=\"sk-container-id-3\" class=\"sk-top-container\"><div class=\"sk-text-repr-fallback\"><pre>RandomForestClassifier(class_weight=&#x27;balanced&#x27;, random_state=42)</pre><b>In a Jupyter environment, please rerun this cell to show the HTML representation or trust the notebook. <br />On GitHub, the HTML representation is unable to render, please try loading this page with nbviewer.org.</b></div><div class=\"sk-container\" hidden><div class=\"sk-item\"><div class=\"sk-estimator sk-toggleable\"><input class=\"sk-toggleable__control sk-hidden--visually\" id=\"sk-estimator-id-3\" type=\"checkbox\" checked><label for=\"sk-estimator-id-3\" class=\"sk-toggleable__label sk-toggleable__label-arrow\">RandomForestClassifier</label><div class=\"sk-toggleable__content\"><pre>RandomForestClassifier(class_weight=&#x27;balanced&#x27;, random_state=42)</pre></div></div></div></div></div>"
      ],
      "text/plain": [
       "RandomForestClassifier(class_weight='balanced', random_state=42)"
      ]
     },
     "execution_count": 30,
     "metadata": {},
     "output_type": "execute_result"
    }
   ],
   "source": [
    "rf_model = RandomForestClassifier(n_estimators=100, class_weight='balanced', random_state=42)\n",
    "rf_model.fit(X_train, y_train)    # Train the model"
   ]
  },
  {
   "cell_type": "code",
   "execution_count": 31,
   "metadata": {
    "id": "JIvBh966_t7G"
   },
   "outputs": [],
   "source": [
    "y_pred_rf = rf_model.predict(X_test)  # Predict the target variable"
   ]
  },
  {
   "cell_type": "code",
   "execution_count": 32,
   "metadata": {
    "id": "U2pkiNuj_uf2"
   },
   "outputs": [],
   "source": [
    "accuracy = accuracy_score(y_test, y_pred)\n",
    "precision = precision_score(y_test, y_pred_rf)\n",
    "recall = recall_score(y_test, y_pred_rf)                            # Calculating the model's performance metrics\n",
    "f1 = f1_score(y_test, y_pred_rf)\n",
    "conf_matrix = confusion_matrix(y_test, y_pred_rf)"
   ]
  },
  {
   "cell_type": "code",
   "execution_count": 86,
   "metadata": {
    "colab": {
     "base_uri": "https://localhost:8080/"
    },
    "id": "tauw8A12_uzY",
    "outputId": "3140d911-7cad-4494-ea66-efa20833c598"
   },
   "outputs": [
    {
     "name": "stdout",
     "output_type": "stream",
     "text": [
      "Random Forest Model:\n",
      "Accuracy: 0.9999\n",
      "Precision: 0.7742\n",
      "Recall: 1.0000\n",
      "F1-Score: 0.8727\n",
      "Confusion Matrix:\n",
      "[[182112     14]\n",
      " [     0     48]]\n"
     ]
    }
   ],
   "source": [
    "print(\"Random Forest Model:\")\n",
    "print(f\"Accuracy: {accuracy:.4f}\")\n",
    "print(f\"Precision: {precision:.4f}\")\n",
    "print(f\"Recall: {recall:.4f}\")\n",
    "print(f\"F1-Score: {f1:.4f}\")\n",
    "print(\"Confusion Matrix:\")\n",
    "print(conf_matrix)"
   ]
  },
  {
   "cell_type": "markdown",
   "metadata": {
    "id": "vVryjE2Pc-UV"
   },
   "source": [
    "# Random Forest Model:\n",
    "1.   Accuracy: 0.9999\n",
    "2.   Precision: 0.7742\n",
    "3.   Recall: 1.0000\n",
    "4.   F1-Score: 0.8727\n",
    "5.   Confusion Matrix:\n",
    "    [[182112     14]\n",
    "    [     0     48]]"
   ]
  },
  {
   "cell_type": "markdown",
   "metadata": {
    "id": "0EwCcJtJbiFE"
   },
   "source": [
    "#Prevention Measures:\n",
    "\n",
    "\n",
    "\n",
    "1.   **Continuous Monitoring** : Implement real-time fraud detection systems\n",
    "2.   **Enhanced Authentication** : Introduce multi-factor authentication\n",
    "3.   **Fraud Detection Algorithms** : Regularly update and retrain fraud detection models\n",
    "4.   **User Education** : Educate customers about safe transaction\n",
    "\n",
    "\n",
    "\n"
   ]
  },
  {
   "cell_type": "markdown",
   "metadata": {
    "id": "wAhSlnfocINU"
   },
   "source": [
    "# Evaluation of Measures:\n",
    "\n",
    "\n",
    "\n",
    "1.   Performance Metrics\n",
    "2.   Incident Tracking\n",
    "3.   Customer Feedback\n",
    "\n"
   ]
  }
 ],
 "metadata": {
  "colab": {
   "provenance": []
  },
  "kernelspec": {
   "display_name": "Python 3 (ipykernel)",
   "language": "python",
   "name": "python3"
  },
  "language_info": {
   "codemirror_mode": {
    "name": "ipython",
    "version": 3
   },
   "file_extension": ".py",
   "mimetype": "text/x-python",
   "name": "python",
   "nbconvert_exporter": "python",
   "pygments_lexer": "ipython3",
   "version": "3.12.6"
  }
 },
 "nbformat": 4,
 "nbformat_minor": 4
}
